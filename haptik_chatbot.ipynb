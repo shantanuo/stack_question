{
 "cells": [
  {
   "cell_type": "code",
   "execution_count": 1,
   "metadata": {},
   "outputs": [],
   "source": [
    "# https://haptik.ai/tech/offline-on-device-ml-text-classification/"
   ]
  },
  {
   "cell_type": "code",
   "execution_count": 2,
   "metadata": {},
   "outputs": [],
   "source": [
    "import csv\n",
    "import re\n",
    "import json\n",
    "import numpy as np"
   ]
  },
  {
   "cell_type": "code",
   "execution_count": 3,
   "metadata": {},
   "outputs": [
    {
     "name": "stderr",
     "output_type": "stream",
     "text": [
      "Using TensorFlow backend.\n"
     ]
    }
   ],
   "source": [
    "from sklearn.preprocessing import LabelEncoder\n",
    "import tensorflow as tf\n",
    "from keras.layers import Dense, Input, Dropout\n",
    "from tensorflow.python.keras import models, optimizers, losses, activations\n",
    "from keras.layers.normalization import BatchNormalization\n",
    "from keras.callbacks import EarlyStopping, ModelCheckpoint\n",
    "from sklearn.model_selection import train_test_split"
   ]
  },
  {
   "cell_type": "code",
   "execution_count": 4,
   "metadata": {},
   "outputs": [],
   "source": [
    "sentences, labels = [], []\n",
    "with open(\"chatbot.csv\", \"r\") as f:\n",
    "    data = csv.reader(f)\n",
    "    for row in data:\n",
    "        sentences.append(row[0])\n",
    "        labels.append(row[1])"
   ]
  },
  {
   "cell_type": "code",
   "execution_count": 5,
   "metadata": {},
   "outputs": [],
   "source": [
    "sentences = [re.sub(r\".,:?{}\", \" \", sentence) for sentence in sentences]\n",
    "\n",
    "corpus = \" \".join(sentences)\n",
    "words = set(corpus.split())\n",
    "word_index = {word: index for index, word in enumerate(words)}\n",
    "with open(\"word_index.json\", \"w\") as file:\n",
    "    json.dump(word_index, file)"
   ]
  },
  {
   "cell_type": "code",
   "execution_count": 6,
   "metadata": {},
   "outputs": [],
   "source": [
    "LE = LabelEncoder()"
   ]
  },
  {
   "cell_type": "code",
   "execution_count": 7,
   "metadata": {},
   "outputs": [],
   "source": [
    "def train_and_eval(sentences, labels):\n",
    "    labels = LE.fit_transform(labels)\n",
    "    labels = np.array(labels)\n",
    "    num_classes = len(labels)\n",
    "    onehot_labels = tf.keras.utils.to_categorical(labels, num_classes=num_classes)\n",
    "\n",
    "    setences_tokens = [sentence.split() for sentence in sentences]\n",
    "    tokenizer = tf.keras.preprocessing.text.Tokenizer()\n",
    "    tokenizer.word_index = word_index\n",
    "    sentences_features = tokenizer.texts_to_matrix(setences_tokens)\n",
    "    train_features, val_features, train_labels, val_labels = train_test_split(\n",
    "        sentences_features, onehot_labels, test_size=0.1\n",
    "    )\n",
    "    feature_input = Input(shape=(sentences_features.shape[1],))\n",
    "    dense = Dense(128, activation=activations.relu)(feature_input)\n",
    "    merged = BatchNormalization()(dense)\n",
    "    merged = Dropout(0.2)(merged)\n",
    "    merged = Dense(64, activation=activations.relu)(merged)\n",
    "    merged = BatchNormalization()(merged)\n",
    "    merged = Dropout(0.2)(merged)\n",
    "    preds = Dense(num_classes, activation=activations.softmax)(merged)\n",
    "    model = Model(inputs=[word_index], outputs=preds)\n",
    "\n",
    "    model.compile(\n",
    "        loss=losses.categorical_crossentropy, optimizer=\"nadam\", metrics=[\"acc\"]\n",
    "    )\n",
    "\n",
    "    early_stopping = EarlyStopping(monitor=\"val_loss\", patience=5)\n",
    "    model.fit(\n",
    "        [train_features],\n",
    "        train_labels,\n",
    "        validation_data=([val_features], val_labels),\n",
    "        epochs=200,\n",
    "        batch_size=8,\n",
    "        shuffle=True,\n",
    "        callbacks=[early_stopping],\n",
    "    )\n",
    "    model.save(\"models.h5\")"
   ]
  },
  {
   "cell_type": "code",
   "execution_count": 8,
   "metadata": {},
   "outputs": [
    {
     "ename": "NameError",
     "evalue": "name 'Model' is not defined",
     "output_type": "error",
     "traceback": [
      "\u001b[0;31m---------------------------------------------------------------------------\u001b[0m",
      "\u001b[0;31mNameError\u001b[0m                                 Traceback (most recent call last)",
      "\u001b[0;32m<ipython-input-8-8b08e102b995>\u001b[0m in \u001b[0;36m<module>\u001b[0;34m\u001b[0m\n\u001b[0;32m----> 1\u001b[0;31m \u001b[0mtrain_and_eval\u001b[0m\u001b[0;34m(\u001b[0m\u001b[0msentences\u001b[0m\u001b[0;34m,\u001b[0m \u001b[0mlabels\u001b[0m\u001b[0;34m)\u001b[0m\u001b[0;34m\u001b[0m\u001b[0;34m\u001b[0m\u001b[0m\n\u001b[0m",
      "\u001b[0;32m<ipython-input-7-a77a840a99dc>\u001b[0m in \u001b[0;36mtrain_and_eval\u001b[0;34m(sentences, labels)\u001b[0m\n\u001b[1;32m     20\u001b[0m     \u001b[0mmerged\u001b[0m \u001b[0;34m=\u001b[0m \u001b[0mDropout\u001b[0m\u001b[0;34m(\u001b[0m\u001b[0;36m0.2\u001b[0m\u001b[0;34m)\u001b[0m\u001b[0;34m(\u001b[0m\u001b[0mmerged\u001b[0m\u001b[0;34m)\u001b[0m\u001b[0;34m\u001b[0m\u001b[0;34m\u001b[0m\u001b[0m\n\u001b[1;32m     21\u001b[0m     \u001b[0mpreds\u001b[0m \u001b[0;34m=\u001b[0m \u001b[0mDense\u001b[0m\u001b[0;34m(\u001b[0m\u001b[0mnum_classes\u001b[0m\u001b[0;34m,\u001b[0m \u001b[0mactivation\u001b[0m\u001b[0;34m=\u001b[0m\u001b[0mactivations\u001b[0m\u001b[0;34m.\u001b[0m\u001b[0msoftmax\u001b[0m\u001b[0;34m)\u001b[0m\u001b[0;34m(\u001b[0m\u001b[0mmerged\u001b[0m\u001b[0;34m)\u001b[0m\u001b[0;34m\u001b[0m\u001b[0;34m\u001b[0m\u001b[0m\n\u001b[0;32m---> 22\u001b[0;31m     \u001b[0mmodel\u001b[0m \u001b[0;34m=\u001b[0m \u001b[0mModel\u001b[0m\u001b[0;34m(\u001b[0m\u001b[0minputs\u001b[0m\u001b[0;34m=\u001b[0m\u001b[0;34m[\u001b[0m\u001b[0mword_index\u001b[0m\u001b[0;34m]\u001b[0m\u001b[0;34m,\u001b[0m \u001b[0moutputs\u001b[0m\u001b[0;34m=\u001b[0m\u001b[0mpreds\u001b[0m\u001b[0;34m)\u001b[0m\u001b[0;34m\u001b[0m\u001b[0;34m\u001b[0m\u001b[0m\n\u001b[0m\u001b[1;32m     23\u001b[0m \u001b[0;34m\u001b[0m\u001b[0m\n\u001b[1;32m     24\u001b[0m     model.compile(\n",
      "\u001b[0;31mNameError\u001b[0m: name 'Model' is not defined"
     ]
    }
   ],
   "source": [
    "train_and_eval(sentences, labels)"
   ]
  },
  {
   "cell_type": "code",
   "execution_count": null,
   "metadata": {},
   "outputs": [],
   "source": [
    "def test(sentence, model_path, word_index_path):\n",
    "\n",
    "    classifier = models.load_model( 'models/models.h5' )\n",
    "    tokenizer = tf.keras.preprocessing.text.Tokenizer(filters='.,:?{} ')\n",
    "    sentences = re.sub(r'.,:?{}', ' ', sentence)\n",
    "    with open(word_index_path, 'r') as f:\n",
    "        tokenizer.word_index = json.loads(f.read())\n",
    "        tokenized_messages = tokenizer.texts_to_matrix(sentence.split())\n",
    "        p = list(classifier.predict(tokenized_messages)[0])\n",
    "\n",
    "    for index, each in enumerate(p):\n",
    "        print(index, each)"
   ]
  },
  {
   "cell_type": "code",
   "execution_count": null,
   "metadata": {},
   "outputs": [],
   "source": [
    "def convert_model_to_tflite(keras_model_path):\n",
    "\n",
    "    tf.logging.set_verbosity( tf.logging.ERROR )\n",
    "    converter = tf.contrib.lite.TFLiteConverter.from_keras_model_file(keras_model_path )\n",
    "\n",
    "    converter.post_training_quantize = True\n",
    "    tflite_buffer = converter.convert()\n",
    "    open( 'model.tflite' , 'wb' ).write( tflite_buffer )\n",
    "\n",
    "    print( 'TFLite model created.')"
   ]
  },
  {
   "cell_type": "code",
   "execution_count": null,
   "metadata": {},
   "outputs": [],
   "source": []
  }
 ],
 "metadata": {
  "kernelspec": {
   "display_name": "Python 3",
   "language": "python",
   "name": "python3"
  },
  "language_info": {
   "codemirror_mode": {
    "name": "ipython",
    "version": 3
   },
   "file_extension": ".py",
   "mimetype": "text/x-python",
   "name": "python",
   "nbconvert_exporter": "python",
   "pygments_lexer": "ipython3",
   "version": "3.7.3"
  }
 },
 "nbformat": 4,
 "nbformat_minor": 2
}
