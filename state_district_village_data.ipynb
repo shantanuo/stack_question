{
 "cells": [
  {
   "cell_type": "code",
   "execution_count": 94,
   "id": "e2653e99",
   "metadata": {},
   "outputs": [
    {
     "name": "stdout",
     "output_type": "stream",
     "text": [
      "The nb_black extension is already loaded. To reload it, use:\n",
      "  %reload_ext nb_black\n"
     ]
    },
    {
     "data": {
      "application/javascript": [
       "\n",
       "            setTimeout(function() {\n",
       "                var nbb_cell_id = 94;\n",
       "                var nbb_unformatted_code = \"%load_ext nb_black\";\n",
       "                var nbb_formatted_code = \"%load_ext nb_black\";\n",
       "                var nbb_cells = Jupyter.notebook.get_cells();\n",
       "                for (var i = 0; i < nbb_cells.length; ++i) {\n",
       "                    if (nbb_cells[i].input_prompt_number == nbb_cell_id) {\n",
       "                        if (nbb_cells[i].get_text() == nbb_unformatted_code) {\n",
       "                             nbb_cells[i].set_text(nbb_formatted_code);\n",
       "                        }\n",
       "                        break;\n",
       "                    }\n",
       "                }\n",
       "            }, 500);\n",
       "            "
      ],
      "text/plain": [
       "<IPython.core.display.Javascript object>"
      ]
     },
     "metadata": {},
     "output_type": "display_data"
    }
   ],
   "source": [
    "# https://groups.google.com/g/datameet/c/YFRuMRO1shc"
   ]
  },
  {
   "cell_type": "code",
   "execution_count": 95,
   "id": "f72595a5",
   "metadata": {},
   "outputs": [
    {
     "data": {
      "application/javascript": [
       "\n",
       "            setTimeout(function() {\n",
       "                var nbb_cell_id = 95;\n",
       "                var nbb_unformatted_code = \"# donload census data from:\\n# https://www.censusindia.gov.in/2011census/Listofvillagesandtowns.aspx\";\n",
       "                var nbb_formatted_code = \"# donload census data from:\\n# https://www.censusindia.gov.in/2011census/Listofvillagesandtowns.aspx\";\n",
       "                var nbb_cells = Jupyter.notebook.get_cells();\n",
       "                for (var i = 0; i < nbb_cells.length; ++i) {\n",
       "                    if (nbb_cells[i].input_prompt_number == nbb_cell_id) {\n",
       "                        if (nbb_cells[i].get_text() == nbb_unformatted_code) {\n",
       "                             nbb_cells[i].set_text(nbb_formatted_code);\n",
       "                        }\n",
       "                        break;\n",
       "                    }\n",
       "                }\n",
       "            }, 500);\n",
       "            "
      ],
      "text/plain": [
       "<IPython.core.display.Javascript object>"
      ]
     },
     "metadata": {},
     "output_type": "display_data"
    }
   ],
   "source": [
    "# donload census data from:\n",
    "# https://www.censusindia.gov.in/2011census/Listofvillagesandtowns.aspx"
   ]
  },
  {
   "cell_type": "code",
   "execution_count": 96,
   "id": "271e1758",
   "metadata": {},
   "outputs": [
    {
     "data": {
      "application/javascript": [
       "\n",
       "            setTimeout(function() {\n",
       "                var nbb_cell_id = 96;\n",
       "                var nbb_unformatted_code = \"# DTName column is same as column DID,C,254 in the census data.\";\n",
       "                var nbb_formatted_code = \"# DTName column is same as column DID,C,254 in the census data.\";\n",
       "                var nbb_cells = Jupyter.notebook.get_cells();\n",
       "                for (var i = 0; i < nbb_cells.length; ++i) {\n",
       "                    if (nbb_cells[i].input_prompt_number == nbb_cell_id) {\n",
       "                        if (nbb_cells[i].get_text() == nbb_unformatted_code) {\n",
       "                             nbb_cells[i].set_text(nbb_formatted_code);\n",
       "                        }\n",
       "                        break;\n",
       "                    }\n",
       "                }\n",
       "            }, 500);\n",
       "            "
      ],
      "text/plain": [
       "<IPython.core.display.Javascript object>"
      ]
     },
     "metadata": {},
     "output_type": "display_data"
    }
   ],
   "source": [
    "# DTName column is same as district column DID,C,254 in the census data.\n",
    "# SDTName column is same as taluka column  TID,C,254 in the census data."
   ]
  },
  {
   "cell_type": "code",
   "execution_count": 97,
   "id": "c9e99dcf",
   "metadata": {},
   "outputs": [
    {
     "data": {
      "application/javascript": [
       "\n",
       "            setTimeout(function() {\n",
       "                var nbb_cell_id = 97;\n",
       "                var nbb_unformatted_code = \"# this is mapping for shape file found here...\\n# https://sedac.ciesin.columbia.edu/data/collection/india/maps/services\";\n",
       "                var nbb_formatted_code = \"# this is mapping for shape file found here...\\n# https://sedac.ciesin.columbia.edu/data/collection/india/maps/services\";\n",
       "                var nbb_cells = Jupyter.notebook.get_cells();\n",
       "                for (var i = 0; i < nbb_cells.length; ++i) {\n",
       "                    if (nbb_cells[i].input_prompt_number == nbb_cell_id) {\n",
       "                        if (nbb_cells[i].get_text() == nbb_unformatted_code) {\n",
       "                             nbb_cells[i].set_text(nbb_formatted_code);\n",
       "                        }\n",
       "                        break;\n",
       "                    }\n",
       "                }\n",
       "            }, 500);\n",
       "            "
      ],
      "text/plain": [
       "<IPython.core.display.Javascript object>"
      ]
     },
     "metadata": {},
     "output_type": "display_data"
    }
   ],
   "source": [
    "# this is mapping for shape file found here...\n",
    "# https://sedac.ciesin.columbia.edu/data/collection/india/maps/services"
   ]
  },
  {
   "cell_type": "code",
   "execution_count": 98,
   "id": "b8534db8",
   "metadata": {},
   "outputs": [
    {
     "data": {
      "application/javascript": [
       "\n",
       "            setTimeout(function() {\n",
       "                var nbb_cell_id = 98;\n",
       "                var nbb_unformatted_code = \"import pandas as pd\\nimport numpy as np\";\n",
       "                var nbb_formatted_code = \"import pandas as pd\\nimport numpy as np\";\n",
       "                var nbb_cells = Jupyter.notebook.get_cells();\n",
       "                for (var i = 0; i < nbb_cells.length; ++i) {\n",
       "                    if (nbb_cells[i].input_prompt_number == nbb_cell_id) {\n",
       "                        if (nbb_cells[i].get_text() == nbb_unformatted_code) {\n",
       "                             nbb_cells[i].set_text(nbb_formatted_code);\n",
       "                        }\n",
       "                        break;\n",
       "                    }\n",
       "                }\n",
       "            }, 500);\n",
       "            "
      ],
      "text/plain": [
       "<IPython.core.display.Javascript object>"
      ]
     },
     "metadata": {},
     "output_type": "display_data"
    }
   ],
   "source": [
    "import pandas as pd\n",
    "import numpy as np"
   ]
  },
  {
   "cell_type": "code",
   "execution_count": 99,
   "id": "20e029a1",
   "metadata": {},
   "outputs": [
    {
     "name": "stderr",
     "output_type": "stream",
     "text": [
      "/root/miniforge3/lib/python3.7/site-packages/ipykernel_launcher.py:5: SettingWithCopyWarning: \n",
      "A value is trying to be set on a copy of a slice from a DataFrame.\n",
      "Try using .loc[row_indexer,col_indexer] = value instead\n",
      "\n",
      "See the caveats in the documentation: https://pandas.pydata.org/pandas-docs/stable/user_guide/indexing.html#returning-a-view-versus-a-copy\n",
      "  \"\"\"\n"
     ]
    },
    {
     "data": {
      "text/html": [
       "<div>\n",
       "<style scoped>\n",
       "    .dataframe tbody tr th:only-of-type {\n",
       "        vertical-align: middle;\n",
       "    }\n",
       "\n",
       "    .dataframe tbody tr th {\n",
       "        vertical-align: top;\n",
       "    }\n",
       "\n",
       "    .dataframe thead th {\n",
       "        text-align: right;\n",
       "    }\n",
       "</style>\n",
       "<table border=\"1\" class=\"dataframe\">\n",
       "  <thead>\n",
       "    <tr style=\"text-align: right;\">\n",
       "      <th></th>\n",
       "      <th>DTCode</th>\n",
       "      <th>Name</th>\n",
       "      <th>mapindex</th>\n",
       "    </tr>\n",
       "  </thead>\n",
       "  <tbody>\n",
       "    <tr>\n",
       "      <th>1</th>\n",
       "      <td>497</td>\n",
       "      <td>Nandurbar</td>\n",
       "      <td>1</td>\n",
       "    </tr>\n",
       "    <tr>\n",
       "      <th>956</th>\n",
       "      <td>498</td>\n",
       "      <td>Dhule</td>\n",
       "      <td>2</td>\n",
       "    </tr>\n",
       "    <tr>\n",
       "      <th>1644</th>\n",
       "      <td>499</td>\n",
       "      <td>Jalgaon</td>\n",
       "      <td>3</td>\n",
       "    </tr>\n",
       "    <tr>\n",
       "      <th>3178</th>\n",
       "      <td>500</td>\n",
       "      <td>Buldana</td>\n",
       "      <td>4</td>\n",
       "    </tr>\n",
       "    <tr>\n",
       "      <th>4636</th>\n",
       "      <td>501</td>\n",
       "      <td>Akola</td>\n",
       "      <td>5</td>\n",
       "    </tr>\n",
       "    <tr>\n",
       "      <th>5636</th>\n",
       "      <td>502</td>\n",
       "      <td>Washim</td>\n",
       "      <td>6</td>\n",
       "    </tr>\n",
       "    <tr>\n",
       "      <th>6432</th>\n",
       "      <td>503</td>\n",
       "      <td>Amravati</td>\n",
       "      <td>7</td>\n",
       "    </tr>\n",
       "    <tr>\n",
       "      <th>8445</th>\n",
       "      <td>504</td>\n",
       "      <td>Wardha</td>\n",
       "      <td>8</td>\n",
       "    </tr>\n",
       "    <tr>\n",
       "      <th>9837</th>\n",
       "      <td>505</td>\n",
       "      <td>Nagpur</td>\n",
       "      <td>9</td>\n",
       "    </tr>\n",
       "    <tr>\n",
       "      <th>11740</th>\n",
       "      <td>506</td>\n",
       "      <td>Bhandara</td>\n",
       "      <td>10</td>\n",
       "    </tr>\n",
       "    <tr>\n",
       "      <th>12621</th>\n",
       "      <td>507</td>\n",
       "      <td>Gondiya</td>\n",
       "      <td>11</td>\n",
       "    </tr>\n",
       "    <tr>\n",
       "      <th>13580</th>\n",
       "      <td>508</td>\n",
       "      <td>Gadchiroli</td>\n",
       "      <td>12</td>\n",
       "    </tr>\n",
       "    <tr>\n",
       "      <th>15272</th>\n",
       "      <td>509</td>\n",
       "      <td>Chandrapur</td>\n",
       "      <td>13</td>\n",
       "    </tr>\n",
       "    <tr>\n",
       "      <th>17096</th>\n",
       "      <td>510</td>\n",
       "      <td>Yavatmal</td>\n",
       "      <td>14</td>\n",
       "    </tr>\n",
       "    <tr>\n",
       "      <th>19259</th>\n",
       "      <td>511</td>\n",
       "      <td>Nanded</td>\n",
       "      <td>15</td>\n",
       "    </tr>\n",
       "    <tr>\n",
       "      <th>20883</th>\n",
       "      <td>512</td>\n",
       "      <td>Hingoli</td>\n",
       "      <td>16</td>\n",
       "    </tr>\n",
       "    <tr>\n",
       "      <th>21600</th>\n",
       "      <td>513</td>\n",
       "      <td>Parbhani</td>\n",
       "      <td>17</td>\n",
       "    </tr>\n",
       "    <tr>\n",
       "      <th>22453</th>\n",
       "      <td>514</td>\n",
       "      <td>Jalna</td>\n",
       "      <td>18</td>\n",
       "    </tr>\n",
       "    <tr>\n",
       "      <th>23429</th>\n",
       "      <td>515</td>\n",
       "      <td>Aurangabad</td>\n",
       "      <td>19</td>\n",
       "    </tr>\n",
       "    <tr>\n",
       "      <th>24803</th>\n",
       "      <td>516</td>\n",
       "      <td>Nashik</td>\n",
       "      <td>20</td>\n",
       "    </tr>\n",
       "    <tr>\n",
       "      <th>26757</th>\n",
       "      <td>517</td>\n",
       "      <td>Thane</td>\n",
       "      <td>21</td>\n",
       "    </tr>\n",
       "    <tr>\n",
       "      <th>28533</th>\n",
       "      <td>518</td>\n",
       "      <td>Mumbai Suburban</td>\n",
       "      <td>22</td>\n",
       "    </tr>\n",
       "    <tr>\n",
       "      <th>28534</th>\n",
       "      <td>519</td>\n",
       "      <td>Mumbai</td>\n",
       "      <td>23</td>\n",
       "    </tr>\n",
       "    <tr>\n",
       "      <th>28535</th>\n",
       "      <td>520</td>\n",
       "      <td>Raigarh</td>\n",
       "      <td>24</td>\n",
       "    </tr>\n",
       "    <tr>\n",
       "      <th>30491</th>\n",
       "      <td>521</td>\n",
       "      <td>Pune</td>\n",
       "      <td>25</td>\n",
       "    </tr>\n",
       "    <tr>\n",
       "      <th>32402</th>\n",
       "      <td>522</td>\n",
       "      <td>Ahmadnagar</td>\n",
       "      <td>26</td>\n",
       "    </tr>\n",
       "    <tr>\n",
       "      <th>34009</th>\n",
       "      <td>523</td>\n",
       "      <td>Bid</td>\n",
       "      <td>27</td>\n",
       "    </tr>\n",
       "    <tr>\n",
       "      <th>35390</th>\n",
       "      <td>524</td>\n",
       "      <td>Latur</td>\n",
       "      <td>28</td>\n",
       "    </tr>\n",
       "    <tr>\n",
       "      <th>36351</th>\n",
       "      <td>525</td>\n",
       "      <td>Osmanabad</td>\n",
       "      <td>29</td>\n",
       "    </tr>\n",
       "    <tr>\n",
       "      <th>37093</th>\n",
       "      <td>526</td>\n",
       "      <td>Solapur</td>\n",
       "      <td>30</td>\n",
       "    </tr>\n",
       "    <tr>\n",
       "      <th>38262</th>\n",
       "      <td>527</td>\n",
       "      <td>Satara</td>\n",
       "      <td>31</td>\n",
       "    </tr>\n",
       "    <tr>\n",
       "      <th>40032</th>\n",
       "      <td>528</td>\n",
       "      <td>Ratnagiri</td>\n",
       "      <td>32</td>\n",
       "    </tr>\n",
       "    <tr>\n",
       "      <th>41590</th>\n",
       "      <td>529</td>\n",
       "      <td>Sindhudurg</td>\n",
       "      <td>33</td>\n",
       "    </tr>\n",
       "    <tr>\n",
       "      <th>42351</th>\n",
       "      <td>530</td>\n",
       "      <td>Kolhapur</td>\n",
       "      <td>34</td>\n",
       "    </tr>\n",
       "    <tr>\n",
       "      <th>43593</th>\n",
       "      <td>531</td>\n",
       "      <td>Sangli</td>\n",
       "      <td>35</td>\n",
       "    </tr>\n",
       "  </tbody>\n",
       "</table>\n",
       "</div>"
      ],
      "text/plain": [
       "      DTCode             Name  mapindex\n",
       "1        497        Nandurbar         1\n",
       "956      498            Dhule         2\n",
       "1644     499          Jalgaon         3\n",
       "3178     500          Buldana         4\n",
       "4636     501            Akola         5\n",
       "5636     502           Washim         6\n",
       "6432     503         Amravati         7\n",
       "8445     504           Wardha         8\n",
       "9837     505           Nagpur         9\n",
       "11740    506         Bhandara        10\n",
       "12621    507          Gondiya        11\n",
       "13580    508       Gadchiroli        12\n",
       "15272    509       Chandrapur        13\n",
       "17096    510         Yavatmal        14\n",
       "19259    511           Nanded        15\n",
       "20883    512          Hingoli        16\n",
       "21600    513         Parbhani        17\n",
       "22453    514            Jalna        18\n",
       "23429    515       Aurangabad        19\n",
       "24803    516           Nashik        20\n",
       "26757    517            Thane        21\n",
       "28533    518  Mumbai Suburban        22\n",
       "28534    519           Mumbai        23\n",
       "28535    520          Raigarh        24\n",
       "30491    521             Pune        25\n",
       "32402    522       Ahmadnagar        26\n",
       "34009    523              Bid        27\n",
       "35390    524            Latur        28\n",
       "36351    525        Osmanabad        29\n",
       "37093    526          Solapur        30\n",
       "38262    527           Satara        31\n",
       "40032    528        Ratnagiri        32\n",
       "41590    529       Sindhudurg        33\n",
       "42351    530         Kolhapur        34\n",
       "43593    531           Sangli        35"
      ]
     },
     "execution_count": 99,
     "metadata": {},
     "output_type": "execute_result"
    },
    {
     "data": {
      "application/javascript": [
       "\n",
       "            setTimeout(function() {\n",
       "                var nbb_cell_id = 99;\n",
       "                var nbb_unformatted_code = \"census = pd.read_csv(\\\"census.CSV\\\")\\ncensus = census.apply(lambda s: s.str.replace(\\\"'\\\", \\\"\\\"))\\ncensus = census[census[\\\"DTName\\\"] != \\\"MAHARASHTRA\\\"]\\nndf = census[census[\\\"SDTCode\\\"] == \\\"00000\\\"]\\nndf[\\\"mapindex\\\"] = np.arange(1, len(ndf) + 1)\\nndf[[\\\"DTCode\\\", \\\"Name\\\", \\\"mapindex\\\"]]\";\n",
       "                var nbb_formatted_code = \"census = pd.read_csv(\\\"census.CSV\\\")\\ncensus = census.apply(lambda s: s.str.replace(\\\"'\\\", \\\"\\\"))\\ncensus = census[census[\\\"DTName\\\"] != \\\"MAHARASHTRA\\\"]\\nndf = census[census[\\\"SDTCode\\\"] == \\\"00000\\\"]\\nndf[\\\"mapindex\\\"] = np.arange(1, len(ndf) + 1)\\nndf[[\\\"DTCode\\\", \\\"Name\\\", \\\"mapindex\\\"]]\";\n",
       "                var nbb_cells = Jupyter.notebook.get_cells();\n",
       "                for (var i = 0; i < nbb_cells.length; ++i) {\n",
       "                    if (nbb_cells[i].input_prompt_number == nbb_cell_id) {\n",
       "                        if (nbb_cells[i].get_text() == nbb_unformatted_code) {\n",
       "                             nbb_cells[i].set_text(nbb_formatted_code);\n",
       "                        }\n",
       "                        break;\n",
       "                    }\n",
       "                }\n",
       "            }, 500);\n",
       "            "
      ],
      "text/plain": [
       "<IPython.core.display.Javascript object>"
      ]
     },
     "metadata": {},
     "output_type": "display_data"
    }
   ],
   "source": [
    "census = pd.read_csv(\"census.CSV\")\n",
    "census = census.apply(lambda s: s.str.replace(\"'\", \"\"))\n",
    "census = census[census[\"DTName\"] != \"MAHARASHTRA\"]\n",
    "ndf = census[census[\"SDTCode\"] == \"00000\"]\n",
    "ndf[\"mapindex\"] = np.arange(1, len(ndf) + 1)\n",
    "ndf[[\"DTCode\", \"Name\", \"mapindex\"]]"
   ]
  },
  {
   "cell_type": "code",
   "execution_count": 166,
   "id": "46c9513e",
   "metadata": {},
   "outputs": [
    {
     "data": {
      "application/javascript": [
       "\n",
       "            setTimeout(function() {\n",
       "                var nbb_cell_id = 166;\n",
       "                var nbb_unformatted_code = \"taluka = census[census[\\\"TVCode\\\"] == \\\"000000\\\"]\\ntaluka = taluka[taluka[\\\"SDTCode\\\"] != \\\"00000\\\"]\";\n",
       "                var nbb_formatted_code = \"taluka = census[census[\\\"TVCode\\\"] == \\\"000000\\\"]\\ntaluka = taluka[taluka[\\\"SDTCode\\\"] != \\\"00000\\\"]\";\n",
       "                var nbb_cells = Jupyter.notebook.get_cells();\n",
       "                for (var i = 0; i < nbb_cells.length; ++i) {\n",
       "                    if (nbb_cells[i].input_prompt_number == nbb_cell_id) {\n",
       "                        if (nbb_cells[i].get_text() == nbb_unformatted_code) {\n",
       "                             nbb_cells[i].set_text(nbb_formatted_code);\n",
       "                        }\n",
       "                        break;\n",
       "                    }\n",
       "                }\n",
       "            }, 500);\n",
       "            "
      ],
      "text/plain": [
       "<IPython.core.display.Javascript object>"
      ]
     },
     "metadata": {},
     "output_type": "display_data"
    }
   ],
   "source": [
    "taluka = census[census[\"TVCode\"] == \"000000\"]\n",
    "taluka = taluka[taluka[\"SDTCode\"] != \"00000\"]\n",
    "\n",
    "taluka[\"sno\"] = (\n",
    "    taluka.groupby(\n",
    "        [\n",
    "            \"DTName\",\n",
    "        ]\n",
    "    ).cumcount()\n",
    "    + 1\n",
    ")"
   ]
  },
  {
   "cell_type": "code",
   "execution_count": 173,
   "id": "c46d6cb0",
   "metadata": {},
   "outputs": [
    {
     "data": {
      "text/html": [
       "<div>\n",
       "<style scoped>\n",
       "    .dataframe tbody tr th:only-of-type {\n",
       "        vertical-align: middle;\n",
       "    }\n",
       "\n",
       "    .dataframe tbody tr th {\n",
       "        vertical-align: top;\n",
       "    }\n",
       "\n",
       "    .dataframe thead th {\n",
       "        text-align: right;\n",
       "    }\n",
       "</style>\n",
       "<table border=\"1\" class=\"dataframe\">\n",
       "  <thead>\n",
       "    <tr style=\"text-align: right;\">\n",
       "      <th></th>\n",
       "      <th>STCode</th>\n",
       "      <th>DTCode</th>\n",
       "      <th>DTName</th>\n",
       "      <th>SDTCode</th>\n",
       "      <th>SDTName</th>\n",
       "      <th>TVCode</th>\n",
       "      <th>Name</th>\n",
       "      <th>sno</th>\n",
       "    </tr>\n",
       "  </thead>\n",
       "  <tbody>\n",
       "    <tr>\n",
       "      <th>43435</th>\n",
       "      <td>27</td>\n",
       "      <td>530</td>\n",
       "      <td>Kolhapur</td>\n",
       "      <td>04294</td>\n",
       "      <td>Chandgad</td>\n",
       "      <td>000000</td>\n",
       "      <td>Chandgad</td>\n",
       "      <td>12</td>\n",
       "    </tr>\n",
       "    <tr>\n",
       "      <th>43594</th>\n",
       "      <td>27</td>\n",
       "      <td>531</td>\n",
       "      <td>Sangli</td>\n",
       "      <td>04295</td>\n",
       "      <td>Shirala</td>\n",
       "      <td>000000</td>\n",
       "      <td>Shirala</td>\n",
       "      <td>1</td>\n",
       "    </tr>\n",
       "    <tr>\n",
       "      <th>43692</th>\n",
       "      <td>27</td>\n",
       "      <td>531</td>\n",
       "      <td>Sangli</td>\n",
       "      <td>04296</td>\n",
       "      <td>Walwa</td>\n",
       "      <td>000000</td>\n",
       "      <td>Walwa</td>\n",
       "      <td>2</td>\n",
       "    </tr>\n",
       "    <tr>\n",
       "      <th>43789</th>\n",
       "      <td>27</td>\n",
       "      <td>531</td>\n",
       "      <td>Sangli</td>\n",
       "      <td>04297</td>\n",
       "      <td>Palus</td>\n",
       "      <td>000000</td>\n",
       "      <td>Palus</td>\n",
       "      <td>3</td>\n",
       "    </tr>\n",
       "    <tr>\n",
       "      <th>43825</th>\n",
       "      <td>27</td>\n",
       "      <td>531</td>\n",
       "      <td>Sangli</td>\n",
       "      <td>04298</td>\n",
       "      <td>Kadegaon</td>\n",
       "      <td>000000</td>\n",
       "      <td>Kadegaon</td>\n",
       "      <td>4</td>\n",
       "    </tr>\n",
       "    <tr>\n",
       "      <th>43882</th>\n",
       "      <td>27</td>\n",
       "      <td>531</td>\n",
       "      <td>Sangli</td>\n",
       "      <td>04299</td>\n",
       "      <td>Khanapur (Vita)</td>\n",
       "      <td>000000</td>\n",
       "      <td>Khanapur</td>\n",
       "      <td>5</td>\n",
       "    </tr>\n",
       "    <tr>\n",
       "      <th>43949</th>\n",
       "      <td>27</td>\n",
       "      <td>531</td>\n",
       "      <td>Sangli</td>\n",
       "      <td>04300</td>\n",
       "      <td>Atpadi</td>\n",
       "      <td>000000</td>\n",
       "      <td>Atpadi</td>\n",
       "      <td>6</td>\n",
       "    </tr>\n",
       "    <tr>\n",
       "      <th>44010</th>\n",
       "      <td>27</td>\n",
       "      <td>531</td>\n",
       "      <td>Sangli</td>\n",
       "      <td>04301</td>\n",
       "      <td>Tasgaon</td>\n",
       "      <td>000000</td>\n",
       "      <td>Tasgaon</td>\n",
       "      <td>7</td>\n",
       "    </tr>\n",
       "    <tr>\n",
       "      <th>44079</th>\n",
       "      <td>27</td>\n",
       "      <td>531</td>\n",
       "      <td>Sangli</td>\n",
       "      <td>04302</td>\n",
       "      <td>Miraj</td>\n",
       "      <td>000000</td>\n",
       "      <td>Miraj</td>\n",
       "      <td>8</td>\n",
       "    </tr>\n",
       "    <tr>\n",
       "      <th>44147</th>\n",
       "      <td>27</td>\n",
       "      <td>531</td>\n",
       "      <td>Sangli</td>\n",
       "      <td>04303</td>\n",
       "      <td>Kavathemahankal</td>\n",
       "      <td>000000</td>\n",
       "      <td>Kavathemahankal</td>\n",
       "      <td>9</td>\n",
       "    </tr>\n",
       "    <tr>\n",
       "      <th>44208</th>\n",
       "      <td>27</td>\n",
       "      <td>531</td>\n",
       "      <td>Sangli</td>\n",
       "      <td>04304</td>\n",
       "      <td>Jat</td>\n",
       "      <td>000000</td>\n",
       "      <td>Jat</td>\n",
       "      <td>10</td>\n",
       "    </tr>\n",
       "  </tbody>\n",
       "</table>\n",
       "</div>"
      ],
      "text/plain": [
       "      STCode DTCode    DTName SDTCode          SDTName  TVCode  \\\n",
       "43435     27    530  Kolhapur   04294         Chandgad  000000   \n",
       "43594     27    531    Sangli   04295          Shirala  000000   \n",
       "43692     27    531    Sangli   04296            Walwa  000000   \n",
       "43789     27    531    Sangli   04297            Palus  000000   \n",
       "43825     27    531    Sangli   04298         Kadegaon  000000   \n",
       "43882     27    531    Sangli   04299  Khanapur (Vita)  000000   \n",
       "43949     27    531    Sangli   04300           Atpadi  000000   \n",
       "44010     27    531    Sangli   04301          Tasgaon  000000   \n",
       "44079     27    531    Sangli   04302            Miraj  000000   \n",
       "44147     27    531    Sangli   04303  Kavathemahankal  000000   \n",
       "44208     27    531    Sangli   04304              Jat  000000   \n",
       "\n",
       "                  Name  sno  \n",
       "43435         Chandgad   12  \n",
       "43594          Shirala    1  \n",
       "43692            Walwa    2  \n",
       "43789            Palus    3  \n",
       "43825         Kadegaon    4  \n",
       "43882         Khanapur    5  \n",
       "43949           Atpadi    6  \n",
       "44010          Tasgaon    7  \n",
       "44079            Miraj    8  \n",
       "44147  Kavathemahankal    9  \n",
       "44208              Jat   10  "
      ]
     },
     "execution_count": 173,
     "metadata": {},
     "output_type": "execute_result"
    },
    {
     "data": {
      "application/javascript": [
       "\n",
       "            setTimeout(function() {\n",
       "                var nbb_cell_id = 173;\n",
       "                var nbb_unformatted_code = \"taluka.tail(11)\";\n",
       "                var nbb_formatted_code = \"taluka.tail(11)\";\n",
       "                var nbb_cells = Jupyter.notebook.get_cells();\n",
       "                for (var i = 0; i < nbb_cells.length; ++i) {\n",
       "                    if (nbb_cells[i].input_prompt_number == nbb_cell_id) {\n",
       "                        if (nbb_cells[i].get_text() == nbb_unformatted_code) {\n",
       "                             nbb_cells[i].set_text(nbb_formatted_code);\n",
       "                        }\n",
       "                        break;\n",
       "                    }\n",
       "                }\n",
       "            }, 500);\n",
       "            "
      ],
      "text/plain": [
       "<IPython.core.display.Javascript object>"
      ]
     },
     "metadata": {},
     "output_type": "display_data"
    }
   ],
   "source": [
    "taluka.tail(11)"
   ]
  },
  {
   "cell_type": "code",
   "execution_count": 179,
   "id": "aa49bbd0",
   "metadata": {},
   "outputs": [
    {
     "data": {
      "text/plain": [
       "array(['ADKUR', 'ADURE', 'ALABADEVI', 'AMBEWADI', 'AMROLI', 'ASAGAON',\n",
       "       'ASAGOLI', 'BAGILGE', 'BASARGE', 'BELEBHAT', 'BHOGOLI', 'BIJUR',\n",
       "       'BONJURDI', 'BUJAVADE', 'BUKKIHAL', 'CHANDGAD', 'CHINCHANE',\n",
       "       'DATE', 'DEVARWADI', 'DHAMAPUR', 'DHEKOLI', 'DHEKOLIWADI',\n",
       "       'DHOLAGARWADI', 'DHUMADEWADI', 'DINDALKOP', 'DUKKARWADI',\n",
       "       'DUNDAGE', 'GANUCHIWADI', 'GAVASE', 'GHULEWADI', 'GUDAWALE KHALSA',\n",
       "       'GUDEWADI', 'HAJAGOLI', 'HALKARNI', 'HALLARWADI', 'HAMBIRE',\n",
       "       'HERE', 'HINDAGAON', 'HOSUR', 'HUNDALEWADI', 'IBRAHIMPUR',\n",
       "       'ISAPUR', 'JAKKANHATTI', 'JAMBRE', 'JANGAMHATTI', 'JATEWADI',\n",
       "       'JELUGADE', 'JOGEWADI', 'KADALGE BK.', 'KADALGE KH.', 'KAGANI',\n",
       "       'KAJIRNE', 'KALASGADE', 'KALIVADE', 'KALKUNDRI', 'KAMEWADI',\n",
       "       'KANADI', 'KANUR BK.', 'KANUR KH.', 'KARANJGAON', 'KAREKUNDI',\n",
       "       'KAULAGE', 'KENCHEWADI', 'KERVADE', 'KHAMDALE', 'KINI', 'KITVADE',\n",
       "       'KITWAD', 'KODALI', 'KOKARE', 'KOLIK', 'KOLINDRE INAM',\n",
       "       'KOLINDRE KHALSA', 'KONEWADI', 'KORAJ', 'KOWAD', 'KUDANUR',\n",
       "       'KURNI', 'KURTANWADI', 'LAKIKATTE', 'LAKUDWADI', 'MADAWALE',\n",
       "       'MAHALEWADI', 'MAHALUNGE INAM', 'MAHIPALGAD', 'MAJARE KARVE',\n",
       "       'MALAGEWADI', 'MALATWADI', 'MALGAD', 'MANDEDURG', 'MANGAON',\n",
       "       'MAUJE KARVE', 'MHALUNGE KHALSA', 'MIRWEL', 'MOREWADI',\n",
       "       'MOTANWADI', 'MUGALI', 'MURKUTEWADI', 'NAGANWADI', 'NAGARDALE',\n",
       "       'NAGAVE', 'NANDAVADE', 'NAREWADI', 'NHAVELI', 'NITUR', 'PARLE',\n",
       "       'PATNE', 'PILANI', 'POREWADI', 'POWACHIWADI', 'PUNDRA',\n",
       "       'RAIDEWADI', 'RAJGOLI BK.', 'RAJGOLI KH.', 'SADEGUDWALE', 'SAROLI',\n",
       "       'SATAWANE', 'SAVARDE INAM', 'SAVARDE KHALSA', 'SHEVALE',\n",
       "       'SHINOLI BK.', 'SHINOLI KH.', 'SHIPUR', 'SHIRGAON', 'SHIROLI',\n",
       "       'SHIVANAGE', 'SONARWADI', 'SULAYE', 'SUNDI', 'SUPE', 'SURUTE',\n",
       "       'TADASHINHAL', 'TALGULI', 'TAMBULWADI', 'TAVAREWADI', 'TEURWADI',\n",
       "       'TUDIYE', 'TURKEWADI', 'UMAGAON', 'UTSALI', 'VARGAON', 'VINZANE',\n",
       "       'WAGHOTRE', 'WALKOLI', 'YARATANHATTI'], dtype=object)"
      ]
     },
     "execution_count": 179,
     "metadata": {},
     "output_type": "execute_result"
    },
    {
     "data": {
      "application/javascript": [
       "\n",
       "            setTimeout(function() {\n",
       "                var nbb_cell_id = 179;\n",
       "                var nbb_unformatted_code = \"np.sort(\\n    earthdata[(earthdata[\\\"TID,C,254\\\"] == 12) & (earthdata[\\\"DID,C,254\\\"] == 34)][\\n        \\\"NAME,C,42\\\"\\n    ].values\\n)\";\n",
       "                var nbb_formatted_code = \"np.sort(\\n    earthdata[(earthdata[\\\"TID,C,254\\\"] == 12) & (earthdata[\\\"DID,C,254\\\"] == 34)][\\n        \\\"NAME,C,42\\\"\\n    ].values\\n)\";\n",
       "                var nbb_cells = Jupyter.notebook.get_cells();\n",
       "                for (var i = 0; i < nbb_cells.length; ++i) {\n",
       "                    if (nbb_cells[i].input_prompt_number == nbb_cell_id) {\n",
       "                        if (nbb_cells[i].get_text() == nbb_unformatted_code) {\n",
       "                             nbb_cells[i].set_text(nbb_formatted_code);\n",
       "                        }\n",
       "                        break;\n",
       "                    }\n",
       "                }\n",
       "            }, 500);\n",
       "            "
      ],
      "text/plain": [
       "<IPython.core.display.Javascript object>"
      ]
     },
     "metadata": {},
     "output_type": "display_data"
    }
   ],
   "source": [
    "np.sort(\n",
    "    earthdata[(earthdata[\"TID,C,254\"] == 12) & (earthdata[\"DID,C,254\"] == 34)][\n",
    "        \"NAME,C,42\"\n",
    "    ].values\n",
    ")"
   ]
  },
  {
   "cell_type": "code",
   "execution_count": 178,
   "id": "f9666320",
   "metadata": {},
   "outputs": [
    {
     "data": {
      "text/plain": [
       "array(['Adkur', 'Adure', 'Alabadevi', 'Ambewadi', 'Amroli', 'Asagaon',\n",
       "       'Asagoli', 'Bagilge', 'Basarge', 'Belebhat', 'Bhogoli', 'Bijur',\n",
       "       'Bonjurdi', 'Bujavade', 'Bukkihal', 'Chandgad', 'Chandgad',\n",
       "       'Channehatti ', 'Chinchane', 'Churani Chawl  ', 'Date',\n",
       "       'Devarwadi', 'Dhamapur', 'Dhekoli', 'Dhekoliwadi', 'Dholagarwadi',\n",
       "       'Dhumadewadi', 'Dindalkop', 'Dukkarwadi', 'Dundage', 'Fatakwadi ',\n",
       "       'Gandharvagad ', 'Ganuchiwadi', 'Gaulwadi ', 'Gavase', 'Ghulewadi',\n",
       "       'Gudawale Khalsa', 'Gudewadi', 'Gulamb (N.V.)', 'Hajagoli',\n",
       "       'Halkarni', 'Hallarwadi', 'Hambire', 'Here', 'Hindagaon', 'Hosur',\n",
       "       'Humbarwadi ', 'Hundalewadi', 'Ibrahimpur', 'Inam Kolindre ',\n",
       "       'Isapur', 'Jakkanhatti', 'Jambre', 'Jangamhatti', 'Jatewadi',\n",
       "       'Jelugade', 'Jogewadi', 'Kadalge Bk.', 'Kadalge Kh.', 'Kagani',\n",
       "       'Kajirne', 'Kalasgade', 'Kalivade', 'Kalkundri', 'Kamewadi',\n",
       "       'Kanadi', 'Kanur Bk.', 'Kanur Kh.', 'Karanjgaon', 'Karekundi',\n",
       "       'Kaulage', 'Kenchewadi', 'Kervade', 'Khalsa Mhalunge ', 'Khamdale',\n",
       "       'Kini', 'Kitvade', 'Kitwad', 'Kodali', 'Kokare', 'Kolik',\n",
       "       'Kolindre Khalsa', 'Konewadi', 'Koraj', 'Kowad', 'Kudanur',\n",
       "       'Kurni', 'Kurtanwadi', 'Lakikatte', 'Lakudwadi', 'Madawale',\n",
       "       'Mahalewadi', 'Mahalunge Inam', 'Mahipalgad', 'Majare Karve',\n",
       "       'Majareshirgaon', 'Malagewadi', 'Malatwadi', 'Malaviwadi ',\n",
       "       'Malgad', 'Mandedurg', 'Mangaon', 'Mangaonwadi ', 'Mauje Karve',\n",
       "       'Mirwel', 'Morewadi', 'Motanwadi', 'Mugali', 'Murkutewadi',\n",
       "       'Naganwadi', 'Nagardale', 'Nagave', 'Nandavade', 'Narewadi',\n",
       "       'Nhaveli', 'Nitur', 'Parle', 'Patne', 'Pilani', 'Porewadi',\n",
       "       'Powachiwadi', 'Pundra', 'Raidewadi', 'Rajgoli Bk.', 'Rajgoli Kh.',\n",
       "       'Sadegudwale', 'Saroli', 'Satawane', 'Sattewadi  ', 'Savarde Inam',\n",
       "       'Savarde Khalsa', 'Shevale', 'Shinoli Bk.', 'Shinoli Kh.',\n",
       "       'Shipur', 'Shirgaon', 'Shiroli', 'Shivanage', 'Sonarwadi',\n",
       "       'Sulaye', 'Sundi', 'Supe', 'Surute', 'Tadashinhal', 'Talguli',\n",
       "       'Tambulwadi', 'Tavarewadi', 'Teurwadi', 'Tudiye', 'Turkewadi',\n",
       "       'Umagaon', 'Utsali', 'Vaitakwadi ', 'Vargaon', 'Vinzane',\n",
       "       'Waghotre', 'Walkoli', 'Yaratanhatti'], dtype=object)"
      ]
     },
     "execution_count": 178,
     "metadata": {},
     "output_type": "execute_result"
    },
    {
     "data": {
      "application/javascript": [
       "\n",
       "            setTimeout(function() {\n",
       "                var nbb_cell_id = 178;\n",
       "                var nbb_unformatted_code = \"np.sort(census[census[\\\"SDTName\\\"] == \\\"Chandgad\\\"][\\\"Name\\\"].values)\";\n",
       "                var nbb_formatted_code = \"np.sort(census[census[\\\"SDTName\\\"] == \\\"Chandgad\\\"][\\\"Name\\\"].values)\";\n",
       "                var nbb_cells = Jupyter.notebook.get_cells();\n",
       "                for (var i = 0; i < nbb_cells.length; ++i) {\n",
       "                    if (nbb_cells[i].input_prompt_number == nbb_cell_id) {\n",
       "                        if (nbb_cells[i].get_text() == nbb_unformatted_code) {\n",
       "                             nbb_cells[i].set_text(nbb_formatted_code);\n",
       "                        }\n",
       "                        break;\n",
       "                    }\n",
       "                }\n",
       "            }, 500);\n",
       "            "
      ],
      "text/plain": [
       "<IPython.core.display.Javascript object>"
      ]
     },
     "metadata": {},
     "output_type": "display_data"
    }
   ],
   "source": [
    "np.sort(census[census[\"SDTName\"] == \"Chandgad\"][\"Name\"].values)"
   ]
  },
  {
   "cell_type": "code",
   "execution_count": null,
   "id": "3225197e",
   "metadata": {},
   "outputs": [],
   "source": []
  },
  {
   "cell_type": "code",
   "execution_count": 174,
   "id": "b0fac516",
   "metadata": {},
   "outputs": [
    {
     "data": {
      "text/plain": [
       "array(['AHIRWADI', 'AITAVADE BK', 'AITAVADE KH', 'ASHTA   (MA)', 'BAGANI',\n",
       "       'BAHADURWADI', 'BAHE', 'BANEWADI', 'BAVCHI', 'BERADMACHI',\n",
       "       'BHADKIMBE', 'BHARATWADI(N.V.)', 'BHATWADI', 'BHAVANINAGAR(N.V.)',\n",
       "       'BICHUD', 'BORGAON', 'CHIKURDE', 'DEVARDE', 'DHABAKWADI (N.V.)',\n",
       "       'DHAGEWADI', 'DHAVALI', 'DHOTREWADI', 'DONGARWADI', 'DUDHARI',\n",
       "       'FARNEWADI(BORGAON)', 'GATADWADI', 'GAUNDWADI', 'GOTKHINDI',\n",
       "       'HUBALWADI', 'ITAKARE', 'JAKRAIWADI', 'JAMBHALWADI', 'JUNE KHED',\n",
       "       'KAKACHIWADI', 'KALAMWADI', 'KAMERI', 'KANEGAON', 'KAPUSKHED',\n",
       "       'KARANDWADI', 'KARANJVADE', 'KARVE', 'KASEGAON', 'KEDARWADI',\n",
       "       'KHARATWADI', 'KILLE MACHHINDRA GAD', 'KOLE', 'KOREGAON',\n",
       "       'KUNDALWADI', 'KURLAP', 'LADEGAON', 'LAVANMACHI', 'MAHADEVWADI',\n",
       "       'MALEWADI', 'MANIKWADI', 'MARALNATHPUR', 'MARDAWADI',\n",
       "       'MASUCHIWADI', 'MIRAJWADI', 'NAGAON', 'NARSIHAPUR', 'NAVE KHED',\n",
       "       'NAYKALWADI', 'NERLE', 'OZARDE', 'PADAVALWADI', 'PETH',\n",
       "       'PHALKEWADI & CHANDACHIWADI', 'PHARNEWADI(SHIGAON)', 'POKHARNI',\n",
       "       'RETHARE  HARNAKSHA', 'RETHARE DHARAN', 'ROZAWADI', 'SAKHARALE',\n",
       "       'SATAPEWADI', 'SHEKHARWADI', 'SHENE', 'SHIGAON', 'SHIRATE',\n",
       "       'SHIRGAON', 'SHIVPURI', 'SURUL', 'TAKARI', 'TAMBAVE', 'TANDULWADI',\n",
       "       'THANAPUDE', 'TUJARPUR', 'URAN ISLAMPUR', 'VASHI',\n",
       "       'VITTHALWADI (N.V.)', 'WAGHWADI', 'WALWA', 'WATEGAON',\n",
       "       'YEDE MACHCHHINDRA', 'YEDE NIPANI', 'YELUR', 'YEWALEWADI'],\n",
       "      dtype=object)"
      ]
     },
     "execution_count": 174,
     "metadata": {},
     "output_type": "execute_result"
    },
    {
     "data": {
      "application/javascript": [
       "\n",
       "            setTimeout(function() {\n",
       "                var nbb_cell_id = 174;\n",
       "                var nbb_unformatted_code = \"np.sort(\\n    earthdata[(earthdata[\\\"TID,C,254\\\"] == 2) & (earthdata[\\\"DID,C,254\\\"] == 35)][\\n        \\\"NAME,C,42\\\"\\n    ].values\\n)\";\n",
       "                var nbb_formatted_code = \"np.sort(\\n    earthdata[(earthdata[\\\"TID,C,254\\\"] == 2) & (earthdata[\\\"DID,C,254\\\"] == 35)][\\n        \\\"NAME,C,42\\\"\\n    ].values\\n)\";\n",
       "                var nbb_cells = Jupyter.notebook.get_cells();\n",
       "                for (var i = 0; i < nbb_cells.length; ++i) {\n",
       "                    if (nbb_cells[i].input_prompt_number == nbb_cell_id) {\n",
       "                        if (nbb_cells[i].get_text() == nbb_unformatted_code) {\n",
       "                             nbb_cells[i].set_text(nbb_formatted_code);\n",
       "                        }\n",
       "                        break;\n",
       "                    }\n",
       "                }\n",
       "            }, 500);\n",
       "            "
      ],
      "text/plain": [
       "<IPython.core.display.Javascript object>"
      ]
     },
     "metadata": {},
     "output_type": "display_data"
    }
   ],
   "source": [
    "np.sort(\n",
    "    earthdata[(earthdata[\"TID,C,254\"] == 2) & (earthdata[\"DID,C,254\"] == 35)][\n",
    "        \"NAME,C,42\"\n",
    "    ].values\n",
    ")"
   ]
  },
  {
   "cell_type": "code",
   "execution_count": 176,
   "id": "e896133b",
   "metadata": {},
   "outputs": [
    {
     "data": {
      "text/plain": [
       "array(['Ahirwadi', 'Aitavade Bk', 'Aitavade Kh', 'Bagani', 'Bahadurwadi',\n",
       "       'Bahe', 'Banewadi', 'Bavchi', 'Beradmachi', 'Bhadkimbe',\n",
       "       'Bharatwadi', 'Bhatwadi', 'Bhavaninagar', 'Bichud', 'Borgaon',\n",
       "       'Chikurde', 'Devarde', 'Dhagewadi', 'Dhavali', 'Dhotrewadi',\n",
       "       'Dongarwadi', 'Dudhari', 'Farnewadi(borgaon)', 'Gatadwadi',\n",
       "       'Gaundwadi', 'Ghabakwadi', 'Gotkhindi', 'Hubalwadi', 'Itakare',\n",
       "       'Jakraiwadi', 'Jambhulwadi', 'June Khed', 'Kakachiwadi',\n",
       "       'Kalamwadi', 'Kameri', 'Kanegaon', 'Kapuskhed', 'Karandwadi',\n",
       "       'Karanjvade', 'Karve', 'Kasegaon', 'Kedarwadi', 'Kharatwadi',\n",
       "       'Kille Machhindra Gad', 'Kole', 'Konoli ', 'Koregaon',\n",
       "       'Krishnanagar ', 'Kundalwadi', 'Kurlap', 'Ladegaon', 'Lavanmachi',\n",
       "       'Mahadevwadi', 'Malewadi', 'Manikwadi', 'Maralnathpur',\n",
       "       'Mardawadi', 'Masuchiwadi', 'Mirajwadi', 'Nagaon', 'Narsihapur',\n",
       "       'Nave Khed', 'Naykalwadi', 'Nerle', 'Ozarde', 'Padavalwadi',\n",
       "       'Peth', 'Phalkewadi & Chandachiwadi', 'Pharnewadi(shigaon)',\n",
       "       'Pokharni', 'Rethare  Harnaksha', 'Rethare Dharan', 'Rozawadi',\n",
       "       'Sakharale', 'Satapewadi', 'Shekharwadi', 'Shene', 'Shigaon',\n",
       "       'Shirate', 'Shirgaon', 'Shivpuri', 'Surul', 'Takari', 'Tambave',\n",
       "       'Tandulwadi', 'Thanapude', 'Tujarpur', 'Vashi', 'Vitthalwadi',\n",
       "       'Waghwadi', 'Walwa', 'Walwa', 'Wategaon', 'Yede Machchhindra',\n",
       "       'Yede Nipani', 'Yelur', 'Yewalewadi'], dtype=object)"
      ]
     },
     "execution_count": 176,
     "metadata": {},
     "output_type": "execute_result"
    },
    {
     "data": {
      "application/javascript": [
       "\n",
       "            setTimeout(function() {\n",
       "                var nbb_cell_id = 176;\n",
       "                var nbb_unformatted_code = \"np.sort(census[census[\\\"SDTName\\\"] == \\\"Walwa\\\"][\\\"Name\\\"].values)\";\n",
       "                var nbb_formatted_code = \"np.sort(census[census[\\\"SDTName\\\"] == \\\"Walwa\\\"][\\\"Name\\\"].values)\";\n",
       "                var nbb_cells = Jupyter.notebook.get_cells();\n",
       "                for (var i = 0; i < nbb_cells.length; ++i) {\n",
       "                    if (nbb_cells[i].input_prompt_number == nbb_cell_id) {\n",
       "                        if (nbb_cells[i].get_text() == nbb_unformatted_code) {\n",
       "                             nbb_cells[i].set_text(nbb_formatted_code);\n",
       "                        }\n",
       "                        break;\n",
       "                    }\n",
       "                }\n",
       "            }, 500);\n",
       "            "
      ],
      "text/plain": [
       "<IPython.core.display.Javascript object>"
      ]
     },
     "metadata": {},
     "output_type": "display_data"
    }
   ],
   "source": [
    "np.sort(census[census[\"SDTName\"] == \"Walwa\"][\"Name\"].values)"
   ]
  },
  {
   "cell_type": "code",
   "execution_count": null,
   "id": "dee31eaa",
   "metadata": {},
   "outputs": [],
   "source": []
  }
 ],
 "metadata": {
  "kernelspec": {
   "display_name": "Python 3",
   "language": "python",
   "name": "python3"
  },
  "language_info": {
   "codemirror_mode": {
    "name": "ipython",
    "version": 3
   },
   "file_extension": ".py",
   "mimetype": "text/x-python",
   "name": "python",
   "nbconvert_exporter": "python",
   "pygments_lexer": "ipython3",
   "version": "3.7.6"
  }
 },
 "nbformat": 4,
 "nbformat_minor": 5
}
