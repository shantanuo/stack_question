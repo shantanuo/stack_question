{
 "cells": [
  {
   "cell_type": "code",
   "execution_count": 2,
   "id": "f9bdc3d5",
   "metadata": {},
   "outputs": [
    {
     "data": {
      "application/javascript": [
       "\n",
       "            setTimeout(function() {\n",
       "                var nbb_cell_id = 2;\n",
       "                var nbb_unformatted_code = \"# https://maxhalford.github.io/blog/transitive-duplicates/\";\n",
       "                var nbb_formatted_code = \"# https://maxhalford.github.io/blog/transitive-duplicates/\";\n",
       "                var nbb_cells = Jupyter.notebook.get_cells();\n",
       "                for (var i = 0; i < nbb_cells.length; ++i) {\n",
       "                    if (nbb_cells[i].input_prompt_number == nbb_cell_id) {\n",
       "                        if (nbb_cells[i].get_text() == nbb_unformatted_code) {\n",
       "                             nbb_cells[i].set_text(nbb_formatted_code);\n",
       "                        }\n",
       "                        break;\n",
       "                    }\n",
       "                }\n",
       "            }, 500);\n",
       "            "
      ],
      "text/plain": [
       "<IPython.core.display.Javascript object>"
      ]
     },
     "metadata": {},
     "output_type": "display_data"
    }
   ],
   "source": [
    "# https://maxhalford.github.io/blog/transitive-duplicates/"
   ]
  },
  {
   "cell_type": "code",
   "execution_count": 3,
   "id": "7e205893",
   "metadata": {},
   "outputs": [
    {
     "data": {
      "application/javascript": [
       "\n",
       "            setTimeout(function() {\n",
       "                var nbb_cell_id = 3;\n",
       "                var nbb_unformatted_code = \"import pandas as pd\\nimport numpy as np\";\n",
       "                var nbb_formatted_code = \"import pandas as pd\\nimport numpy as np\";\n",
       "                var nbb_cells = Jupyter.notebook.get_cells();\n",
       "                for (var i = 0; i < nbb_cells.length; ++i) {\n",
       "                    if (nbb_cells[i].input_prompt_number == nbb_cell_id) {\n",
       "                        if (nbb_cells[i].get_text() == nbb_unformatted_code) {\n",
       "                             nbb_cells[i].set_text(nbb_formatted_code);\n",
       "                        }\n",
       "                        break;\n",
       "                    }\n",
       "                }\n",
       "            }, 500);\n",
       "            "
      ],
      "text/plain": [
       "<IPython.core.display.Javascript object>"
      ]
     },
     "metadata": {},
     "output_type": "display_data"
    }
   ],
   "source": [
    "import pandas as pd\n",
    "import numpy as np"
   ]
  },
  {
   "cell_type": "code",
   "execution_count": 4,
   "id": "c22dc054",
   "metadata": {},
   "outputs": [
    {
     "data": {
      "application/javascript": [
       "\n",
       "            setTimeout(function() {\n",
       "                var nbb_cell_id = 4;\n",
       "                var nbb_unformatted_code = \"def find_partitions(df, match_func, max_size=None, block_by=None):\\n    \\\"\\\"\\\"Recursive algorithm for finding duplicates in a DataFrame.\\\"\\\"\\\"\\n\\n    # If block_by is provided, then we apply the algorithm to each block and\\n    # stitch the results back together\\n    if block_by is not None:\\n        blocks = df.groupby(block_by).apply(lambda g: find_partitions(\\n            df=g,\\n            match_func=match_func,\\n            max_size=max_size\\n        ))\\n\\n        keys = blocks.index.unique(block_by)\\n        for a, b in zip(keys[:-1], keys[1:]):\\n            blocks.loc[b, :] += blocks.loc[a].iloc[-1] + 1\\n\\n        return blocks.reset_index(block_by, drop=True)\\n\\n    def get_record_index(r):\\n        return r[df.index.name or 'index']\\n\\n    # Records are easier to work with than a DataFrame\\n    records = df.to_records()\\n\\n    # This is where we store each partition\\n    partitions = []\\n\\n    def find_partition(at=0, partition=None, indexes=None):\\n\\n        r1 = records[at]\\n\\n        if partition is None:\\n            partition = {get_record_index(r1)}\\n            indexes = [at]\\n\\n        # Stop if enough duplicates have been found\\n        if max_size is not None and len(partition) == max_size:\\n            return partition, indexes\\n\\n        for i, r2 in enumerate(records):\\n\\n            if get_record_index(r2) in partition or i == at:\\n                continue\\n\\n            if match_func(r1, r2):\\n                partition.add(get_record_index(r2))\\n                indexes.append(i)\\n                find_partition(at=i, partition=partition, indexes=indexes)\\n\\n        return partition, indexes\\n\\n    while len(records) > 0:\\n        partition, indexes = find_partition()\\n        partitions.append(partition)\\n        records = np.delete(records, indexes)\\n\\n    return pd.Series({\\n        idx: partition_id\\n        for partition_id, idxs in enumerate(partitions)\\n        for idx in idxs\\n    })\";\n",
       "                var nbb_formatted_code = \"def find_partitions(df, match_func, max_size=None, block_by=None):\\n    \\\"\\\"\\\"Recursive algorithm for finding duplicates in a DataFrame.\\\"\\\"\\\"\\n\\n    # If block_by is provided, then we apply the algorithm to each block and\\n    # stitch the results back together\\n    if block_by is not None:\\n        blocks = df.groupby(block_by).apply(\\n            lambda g: find_partitions(df=g, match_func=match_func, max_size=max_size)\\n        )\\n\\n        keys = blocks.index.unique(block_by)\\n        for a, b in zip(keys[:-1], keys[1:]):\\n            blocks.loc[b, :] += blocks.loc[a].iloc[-1] + 1\\n\\n        return blocks.reset_index(block_by, drop=True)\\n\\n    def get_record_index(r):\\n        return r[df.index.name or \\\"index\\\"]\\n\\n    # Records are easier to work with than a DataFrame\\n    records = df.to_records()\\n\\n    # This is where we store each partition\\n    partitions = []\\n\\n    def find_partition(at=0, partition=None, indexes=None):\\n\\n        r1 = records[at]\\n\\n        if partition is None:\\n            partition = {get_record_index(r1)}\\n            indexes = [at]\\n\\n        # Stop if enough duplicates have been found\\n        if max_size is not None and len(partition) == max_size:\\n            return partition, indexes\\n\\n        for i, r2 in enumerate(records):\\n\\n            if get_record_index(r2) in partition or i == at:\\n                continue\\n\\n            if match_func(r1, r2):\\n                partition.add(get_record_index(r2))\\n                indexes.append(i)\\n                find_partition(at=i, partition=partition, indexes=indexes)\\n\\n        return partition, indexes\\n\\n    while len(records) > 0:\\n        partition, indexes = find_partition()\\n        partitions.append(partition)\\n        records = np.delete(records, indexes)\\n\\n    return pd.Series(\\n        {\\n            idx: partition_id\\n            for partition_id, idxs in enumerate(partitions)\\n            for idx in idxs\\n        }\\n    )\";\n",
       "                var nbb_cells = Jupyter.notebook.get_cells();\n",
       "                for (var i = 0; i < nbb_cells.length; ++i) {\n",
       "                    if (nbb_cells[i].input_prompt_number == nbb_cell_id) {\n",
       "                        if (nbb_cells[i].get_text() == nbb_unformatted_code) {\n",
       "                             nbb_cells[i].set_text(nbb_formatted_code);\n",
       "                        }\n",
       "                        break;\n",
       "                    }\n",
       "                }\n",
       "            }, 500);\n",
       "            "
      ],
      "text/plain": [
       "<IPython.core.display.Javascript object>"
      ]
     },
     "metadata": {},
     "output_type": "display_data"
    }
   ],
   "source": [
    "def find_partitions(df, match_func, max_size=None, block_by=None):\n",
    "    \"\"\"Recursive algorithm for finding duplicates in a DataFrame.\"\"\"\n",
    "\n",
    "    # If block_by is provided, then we apply the algorithm to each block and\n",
    "    # stitch the results back together\n",
    "    if block_by is not None:\n",
    "        blocks = df.groupby(block_by).apply(\n",
    "            lambda g: find_partitions(df=g, match_func=match_func, max_size=max_size)\n",
    "        )\n",
    "\n",
    "        keys = blocks.index.unique(block_by)\n",
    "        for a, b in zip(keys[:-1], keys[1:]):\n",
    "            blocks.loc[b, :] += blocks.loc[a].iloc[-1] + 1\n",
    "\n",
    "        return blocks.reset_index(block_by, drop=True)\n",
    "\n",
    "    def get_record_index(r):\n",
    "        return r[df.index.name or \"index\"]\n",
    "\n",
    "    # Records are easier to work with than a DataFrame\n",
    "    records = df.to_records()\n",
    "\n",
    "    # This is where we store each partition\n",
    "    partitions = []\n",
    "\n",
    "    def find_partition(at=0, partition=None, indexes=None):\n",
    "\n",
    "        r1 = records[at]\n",
    "\n",
    "        if partition is None:\n",
    "            partition = {get_record_index(r1)}\n",
    "            indexes = [at]\n",
    "\n",
    "        # Stop if enough duplicates have been found\n",
    "        if max_size is not None and len(partition) == max_size:\n",
    "            return partition, indexes\n",
    "\n",
    "        for i, r2 in enumerate(records):\n",
    "\n",
    "            if get_record_index(r2) in partition or i == at:\n",
    "                continue\n",
    "\n",
    "            if match_func(r1, r2):\n",
    "                partition.add(get_record_index(r2))\n",
    "                indexes.append(i)\n",
    "                find_partition(at=i, partition=partition, indexes=indexes)\n",
    "\n",
    "        return partition, indexes\n",
    "\n",
    "    while len(records) > 0:\n",
    "        partition, indexes = find_partition()\n",
    "        partitions.append(partition)\n",
    "        records = np.delete(records, indexes)\n",
    "\n",
    "    return pd.Series(\n",
    "        {\n",
    "            idx: partition_id\n",
    "            for partition_id, idxs in enumerate(partitions)\n",
    "            for idx in idxs\n",
    "        }\n",
    "    )"
   ]
  },
  {
   "cell_type": "code",
   "execution_count": 5,
   "id": "22730680",
   "metadata": {},
   "outputs": [
    {
     "data": {
      "application/javascript": [
       "\n",
       "            setTimeout(function() {\n",
       "                var nbb_cell_id = 5;\n",
       "                var nbb_unformatted_code = \"from fuzzywuzzy import fuzz\\n\\n\\ndef same_phone(r1, r2):\\n    return r1['phone'] == r2['phone']\\n\\n\\ndef same_area_code(r1, r2):\\n    return r1['phone'].split(' ')[0] == r2['phone'].split(' ')[0]\\n\\n\\ndef same_name(r1, r2):\\n    return fuzz.ratio(r1['name'], r2['name']) > 75\\n\\n\\ndef similar_address(r1, r2):\\n    return (\\n        fuzz.ratio(r1['address'], r2['address']) > 55 or\\n        fuzz.partial_ratio(r1['address'], r2['address']) > 75\\n    )\\n\\ndef similar_name(r1, r2):\\n    return fuzz.partial_ratio(r1['name'], r2['name']) > 50\\n\\n\\ndef manual_ritz(r1, r2):\\n    if 'ritz carlton' in r1['name']:\\n        for term in ['cafe', 'dining room', 'restaurant']:\\n            if term in r1['name']:\\n                return term in r2['name']\\n    return True\\n\\n\\ndef manual_le_marais(r1, r2):\\n    return not (\\n        r1['name'] == 'le marais' and r2['name'] == 'le madri' or\\n        r1['name'] == 'le madri' and r2['name'] == 'le marais'\\n    )\\n\\n\\ndef same_restaurant(r1, r2):\\n    return (\\n        (\\n            (\\n                same_phone(r1, r2) and\\n                similar_name(r1, r2)\\n            ) or\\n            (\\n                same_area_code(r1, r2) and\\n                same_name(r1, r2) and\\n                similar_address(r1, r2)\\n            )\\n        ) and\\n        manual_ritz(r1, r2) and\\n        manual_le_marais(r1, r2)\\n    )\";\n",
       "                var nbb_formatted_code = \"from fuzzywuzzy import fuzz\\n\\n\\ndef same_phone(r1, r2):\\n    return r1[\\\"phone\\\"] == r2[\\\"phone\\\"]\\n\\n\\ndef same_area_code(r1, r2):\\n    return r1[\\\"phone\\\"].split(\\\" \\\")[0] == r2[\\\"phone\\\"].split(\\\" \\\")[0]\\n\\n\\ndef same_name(r1, r2):\\n    return fuzz.ratio(r1[\\\"name\\\"], r2[\\\"name\\\"]) > 75\\n\\n\\ndef similar_address(r1, r2):\\n    return (\\n        fuzz.ratio(r1[\\\"address\\\"], r2[\\\"address\\\"]) > 55\\n        or fuzz.partial_ratio(r1[\\\"address\\\"], r2[\\\"address\\\"]) > 75\\n    )\\n\\n\\ndef similar_name(r1, r2):\\n    return fuzz.partial_ratio(r1[\\\"name\\\"], r2[\\\"name\\\"]) > 50\\n\\n\\ndef manual_ritz(r1, r2):\\n    if \\\"ritz carlton\\\" in r1[\\\"name\\\"]:\\n        for term in [\\\"cafe\\\", \\\"dining room\\\", \\\"restaurant\\\"]:\\n            if term in r1[\\\"name\\\"]:\\n                return term in r2[\\\"name\\\"]\\n    return True\\n\\n\\ndef manual_le_marais(r1, r2):\\n    return not (\\n        r1[\\\"name\\\"] == \\\"le marais\\\"\\n        and r2[\\\"name\\\"] == \\\"le madri\\\"\\n        or r1[\\\"name\\\"] == \\\"le madri\\\"\\n        and r2[\\\"name\\\"] == \\\"le marais\\\"\\n    )\\n\\n\\ndef same_restaurant(r1, r2):\\n    return (\\n        (\\n            (same_phone(r1, r2) and similar_name(r1, r2))\\n            or (\\n                same_area_code(r1, r2) and same_name(r1, r2) and similar_address(r1, r2)\\n            )\\n        )\\n        and manual_ritz(r1, r2)\\n        and manual_le_marais(r1, r2)\\n    )\";\n",
       "                var nbb_cells = Jupyter.notebook.get_cells();\n",
       "                for (var i = 0; i < nbb_cells.length; ++i) {\n",
       "                    if (nbb_cells[i].input_prompt_number == nbb_cell_id) {\n",
       "                        if (nbb_cells[i].get_text() == nbb_unformatted_code) {\n",
       "                             nbb_cells[i].set_text(nbb_formatted_code);\n",
       "                        }\n",
       "                        break;\n",
       "                    }\n",
       "                }\n",
       "            }, 500);\n",
       "            "
      ],
      "text/plain": [
       "<IPython.core.display.Javascript object>"
      ]
     },
     "metadata": {},
     "output_type": "display_data"
    }
   ],
   "source": [
    "from fuzzywuzzy import fuzz\n",
    "\n",
    "\n",
    "def same_phone(r1, r2):\n",
    "    return r1[\"phone\"] == r2[\"phone\"]\n",
    "\n",
    "\n",
    "def same_area_code(r1, r2):\n",
    "    return r1[\"phone\"].split(\" \")[0] == r2[\"phone\"].split(\" \")[0]\n",
    "\n",
    "\n",
    "def same_name(r1, r2):\n",
    "    return fuzz.ratio(r1[\"name\"], r2[\"name\"]) > 75\n",
    "\n",
    "\n",
    "def similar_address(r1, r2):\n",
    "    return (\n",
    "        fuzz.ratio(r1[\"address\"], r2[\"address\"]) > 55\n",
    "        or fuzz.partial_ratio(r1[\"address\"], r2[\"address\"]) > 75\n",
    "    )\n",
    "\n",
    "\n",
    "def similar_name(r1, r2):\n",
    "    return fuzz.partial_ratio(r1[\"name\"], r2[\"name\"]) > 50\n",
    "\n",
    "\n",
    "def manual_ritz(r1, r2):\n",
    "    if \"ritz carlton\" in r1[\"name\"]:\n",
    "        for term in [\"cafe\", \"dining room\", \"restaurant\"]:\n",
    "            if term in r1[\"name\"]:\n",
    "                return term in r2[\"name\"]\n",
    "    return True\n",
    "\n",
    "\n",
    "def manual_le_marais(r1, r2):\n",
    "    return not (\n",
    "        r1[\"name\"] == \"le marais\"\n",
    "        and r2[\"name\"] == \"le madri\"\n",
    "        or r1[\"name\"] == \"le madri\"\n",
    "        and r2[\"name\"] == \"le marais\"\n",
    "    )\n",
    "\n",
    "\n",
    "def same_restaurant(r1, r2):\n",
    "    return (\n",
    "        (\n",
    "            (same_phone(r1, r2) and similar_name(r1, r2))\n",
    "            or (\n",
    "                same_area_code(r1, r2) and same_name(r1, r2) and similar_address(r1, r2)\n",
    "            )\n",
    "        )\n",
    "        and manual_ritz(r1, r2)\n",
    "        and manual_le_marais(r1, r2)\n",
    "    )"
   ]
  },
  {
   "cell_type": "code",
   "execution_count": 6,
   "id": "160c7735",
   "metadata": {},
   "outputs": [
    {
     "data": {
      "application/javascript": [
       "\n",
       "            setTimeout(function() {\n",
       "                var nbb_cell_id = 6;\n",
       "                var nbb_unformatted_code = \"restaurants = pd.read_csv('https://hpi.de/fileadmin/user_upload/fachgebiete/naumann/projekte/repeatability/Restaurants/restaurants.tsv', sep='\\\\t', index_col='id')\";\n",
       "                var nbb_formatted_code = \"restaurants = pd.read_csv(\\n    \\\"https://hpi.de/fileadmin/user_upload/fachgebiete/naumann/projekte/repeatability/Restaurants/restaurants.tsv\\\",\\n    sep=\\\"\\\\t\\\",\\n    index_col=\\\"id\\\",\\n)\";\n",
       "                var nbb_cells = Jupyter.notebook.get_cells();\n",
       "                for (var i = 0; i < nbb_cells.length; ++i) {\n",
       "                    if (nbb_cells[i].input_prompt_number == nbb_cell_id) {\n",
       "                        if (nbb_cells[i].get_text() == nbb_unformatted_code) {\n",
       "                             nbb_cells[i].set_text(nbb_formatted_code);\n",
       "                        }\n",
       "                        break;\n",
       "                    }\n",
       "                }\n",
       "            }, 500);\n",
       "            "
      ],
      "text/plain": [
       "<IPython.core.display.Javascript object>"
      ]
     },
     "metadata": {},
     "output_type": "display_data"
    }
   ],
   "source": [
    "restaurants = pd.read_csv(\n",
    "    \"https://hpi.de/fileadmin/user_upload/fachgebiete/naumann/projekte/repeatability/Restaurants/restaurants.tsv\",\n",
    "    sep=\"\\t\",\n",
    "    index_col=\"id\",\n",
    ")"
   ]
  },
  {
   "cell_type": "code",
   "execution_count": 7,
   "id": "03417066",
   "metadata": {},
   "outputs": [
    {
     "data": {
      "application/javascript": [
       "\n",
       "            setTimeout(function() {\n",
       "                var nbb_cell_id = 7;\n",
       "                var nbb_unformatted_code = \"restaurants['real_id'] = find_partitions(\\n    df=restaurants,\\n    match_func=same_restaurant\\n)\";\n",
       "                var nbb_formatted_code = \"restaurants[\\\"real_id\\\"] = find_partitions(df=restaurants, match_func=same_restaurant)\";\n",
       "                var nbb_cells = Jupyter.notebook.get_cells();\n",
       "                for (var i = 0; i < nbb_cells.length; ++i) {\n",
       "                    if (nbb_cells[i].input_prompt_number == nbb_cell_id) {\n",
       "                        if (nbb_cells[i].get_text() == nbb_unformatted_code) {\n",
       "                             nbb_cells[i].set_text(nbb_formatted_code);\n",
       "                        }\n",
       "                        break;\n",
       "                    }\n",
       "                }\n",
       "            }, 500);\n",
       "            "
      ],
      "text/plain": [
       "<IPython.core.display.Javascript object>"
      ]
     },
     "metadata": {},
     "output_type": "display_data"
    }
   ],
   "source": [
    "restaurants[\"real_id\"] = find_partitions(df=restaurants, match_func=same_restaurant)"
   ]
  },
  {
   "cell_type": "code",
   "execution_count": 8,
   "id": "6f7155d7",
   "metadata": {},
   "outputs": [
    {
     "data": {
      "text/html": [
       "<div>\n",
       "<style scoped>\n",
       "    .dataframe tbody tr th:only-of-type {\n",
       "        vertical-align: middle;\n",
       "    }\n",
       "\n",
       "    .dataframe tbody tr th {\n",
       "        vertical-align: top;\n",
       "    }\n",
       "\n",
       "    .dataframe thead th {\n",
       "        text-align: right;\n",
       "    }\n",
       "</style>\n",
       "<table border=\"1\" class=\"dataframe\">\n",
       "  <thead>\n",
       "    <tr style=\"text-align: right;\">\n",
       "      <th></th>\n",
       "      <th>name</th>\n",
       "      <th>address</th>\n",
       "      <th>city</th>\n",
       "      <th>phone</th>\n",
       "      <th>type</th>\n",
       "      <th>real_id</th>\n",
       "    </tr>\n",
       "    <tr>\n",
       "      <th>id</th>\n",
       "      <th></th>\n",
       "      <th></th>\n",
       "      <th></th>\n",
       "      <th></th>\n",
       "      <th></th>\n",
       "      <th></th>\n",
       "    </tr>\n",
       "  </thead>\n",
       "  <tbody>\n",
       "    <tr>\n",
       "      <th>33</th>\n",
       "      <td>patina</td>\n",
       "      <td>5955 melrose ave.</td>\n",
       "      <td>los angeles</td>\n",
       "      <td>213/467-1108</td>\n",
       "      <td>californian</td>\n",
       "      <td>32</td>\n",
       "    </tr>\n",
       "    <tr>\n",
       "      <th>34</th>\n",
       "      <td>patina</td>\n",
       "      <td>5955 melrose ave.</td>\n",
       "      <td>los angeles</td>\n",
       "      <td>213-467-1108</td>\n",
       "      <td>californian</td>\n",
       "      <td>33</td>\n",
       "    </tr>\n",
       "    <tr>\n",
       "      <th>35</th>\n",
       "      <td>philippe's the original</td>\n",
       "      <td>1001 n. alameda st.</td>\n",
       "      <td>los angeles</td>\n",
       "      <td>213/628-3781</td>\n",
       "      <td>american</td>\n",
       "      <td>34</td>\n",
       "    </tr>\n",
       "    <tr>\n",
       "      <th>36</th>\n",
       "      <td>philippe the original</td>\n",
       "      <td>1001 n. alameda st.</td>\n",
       "      <td>chinatown</td>\n",
       "      <td>213-628-3781</td>\n",
       "      <td>cafeterias</td>\n",
       "      <td>35</td>\n",
       "    </tr>\n",
       "    <tr>\n",
       "      <th>37</th>\n",
       "      <td>pinot bistro</td>\n",
       "      <td>12969 ventura blvd.</td>\n",
       "      <td>los angeles</td>\n",
       "      <td>818/990-0500</td>\n",
       "      <td>french</td>\n",
       "      <td>36</td>\n",
       "    </tr>\n",
       "    <tr>\n",
       "      <th>38</th>\n",
       "      <td>pinot bistro</td>\n",
       "      <td>12969 ventura blvd.</td>\n",
       "      <td>studio city</td>\n",
       "      <td>818-990-0500</td>\n",
       "      <td>french bistro</td>\n",
       "      <td>37</td>\n",
       "    </tr>\n",
       "  </tbody>\n",
       "</table>\n",
       "</div>"
      ],
      "text/plain": [
       "                       name              address         city         phone  \\\n",
       "id                                                                            \n",
       "33                   patina    5955 melrose ave.  los angeles  213/467-1108   \n",
       "34                   patina    5955 melrose ave.  los angeles  213-467-1108   \n",
       "35  philippe's the original  1001 n. alameda st.  los angeles  213/628-3781   \n",
       "36    philippe the original  1001 n. alameda st.    chinatown  213-628-3781   \n",
       "37             pinot bistro  12969 ventura blvd.  los angeles  818/990-0500   \n",
       "38             pinot bistro  12969 ventura blvd.  studio city  818-990-0500   \n",
       "\n",
       "             type  real_id  \n",
       "id                          \n",
       "33    californian       32  \n",
       "34    californian       33  \n",
       "35       american       34  \n",
       "36     cafeterias       35  \n",
       "37         french       36  \n",
       "38  french bistro       37  "
      ]
     },
     "execution_count": 8,
     "metadata": {},
     "output_type": "execute_result"
    },
    {
     "data": {
      "application/javascript": [
       "\n",
       "            setTimeout(function() {\n",
       "                var nbb_cell_id = 8;\n",
       "                var nbb_unformatted_code = \"restaurants.loc[33:38]\";\n",
       "                var nbb_formatted_code = \"restaurants.loc[33:38]\";\n",
       "                var nbb_cells = Jupyter.notebook.get_cells();\n",
       "                for (var i = 0; i < nbb_cells.length; ++i) {\n",
       "                    if (nbb_cells[i].input_prompt_number == nbb_cell_id) {\n",
       "                        if (nbb_cells[i].get_text() == nbb_unformatted_code) {\n",
       "                             nbb_cells[i].set_text(nbb_formatted_code);\n",
       "                        }\n",
       "                        break;\n",
       "                    }\n",
       "                }\n",
       "            }, 500);\n",
       "            "
      ],
      "text/plain": [
       "<IPython.core.display.Javascript object>"
      ]
     },
     "metadata": {},
     "output_type": "display_data"
    }
   ],
   "source": [
    "restaurants.loc[33:38]"
   ]
  }
 ],
 "metadata": {
  "kernelspec": {
   "display_name": "Python 3 (ipykernel)",
   "language": "python",
   "name": "python3"
  },
  "language_info": {
   "codemirror_mode": {
    "name": "ipython",
    "version": 3
   },
   "file_extension": ".py",
   "mimetype": "text/x-python",
   "name": "python",
   "nbconvert_exporter": "python",
   "pygments_lexer": "ipython3",
   "version": "3.7.6"
  },
  "vp": {
   "vp_config_version": "1.0.0",
   "vp_menu_width": 273,
   "vp_note_display": false,
   "vp_note_width": 0,
   "vp_position": {
    "width": 278
   },
   "vp_section_display": false,
   "vp_signature": "VisualPython"
  }
 },
 "nbformat": 4,
 "nbformat_minor": 5
}
